{
 "cells": [
  {
   "cell_type": "markdown",
   "id": "38cd19b6",
   "metadata": {},
   "source": [
    "En este notebook, como su nombre indica, se realiza el procesamiento de los datasets que contemplan hogares."
   ]
  },
  {
   "cell_type": "markdown",
   "id": "ba450ffd",
   "metadata": {},
   "source": [
    "<center><mark>  <div style = 'background-color:skyblue'> <center> Seccion A </div> <mark></center>"
   ]
  },
  {
   "cell_type": "markdown",
   "id": "814a8765",
   "metadata": {},
   "source": [
    "Ejecutando los siguientes recuadros con codigo se estará generando la base de informacion para utilizarla luego en la interfaz Streamlit. Previo a cada ejecucion de codigo se detallará su funcionalidad."
   ]
  },
  {
   "cell_type": "markdown",
   "id": "6c1a4045",
   "metadata": {},
   "source": [
    "Se importa la clase Path para trabajar sobre la ruta del sistema, permite que sea multiplataforma este metodo, y luego se obtiene la ruta del directorio actual, y apartir de ahi se posiciona en el contenido de la carpeta src."
   ]
  },
  {
   "cell_type": "code",
   "execution_count": null,
   "id": "8bfaecec",
   "metadata": {},
   "outputs": [],
   "source": [
    "from pathlib import Path\n",
    "import sys\n",
    "\n",
    "current_dir = Path().resolve()\n",
    "src_dir = current_dir.parent / \"src\"\n",
    "\n",
    "# Agrega src al sys.path (como string)\n",
    "if str(src_dir) not in sys.path:\n",
    "    sys.path.append(str(src_dir))"
   ]
  },
  {
   "cell_type": "markdown",
   "id": "2fcc2df0",
   "metadata": {},
   "source": [
    "Con el posicionamiento en src nos permite traer (importando) codigo de los diferentes archivos .py"
   ]
  },
  {
   "cell_type": "code",
   "execution_count": null,
   "id": "e6c69c03",
   "metadata": {},
   "outputs": [],
   "source": [
    "from funcionalidad import creacion_datasets\n",
    "from procesamiento import procesar_data"
   ]
  },
  {
   "cell_type": "markdown",
   "id": "7904b745",
   "metadata": {},
   "source": [
    "Ejecutando estas funciones vamos a crear: <br> <br>\n",
    "Primero un dataset a partir de varios archivos hogar.txt sobre los trimestres almacenados en la carpeta files."
   ]
  },
  {
   "cell_type": "code",
   "execution_count": null,
   "id": "1badf692",
   "metadata": {},
   "outputs": [],
   "source": [
    "creacion_datasets(\"H\")"
   ]
  },
  {
   "cell_type": "markdown",
   "id": "ad987e21",
   "metadata": {},
   "source": [
    "Luego, con este archivo sobre hogares de tipo .csv se crea uno con nuevas columnas solicitadas en la seccion A."
   ]
  },
  {
   "cell_type": "code",
   "execution_count": null,
   "id": "bb4213d5",
   "metadata": {},
   "outputs": [],
   "source": [
    "procesar_data(\"H\")"
   ]
  },
  {
   "cell_type": "markdown",
   "id": "bb7e39e3",
   "metadata": {},
   "source": [
    "<center><mark>  <div style = 'background-color:skyblue'> <center> Seccion B </div> <mark></center>"
   ]
  },
  {
   "cell_type": "markdown",
   "id": "502ecf46",
   "metadata": {},
   "source": [
    "Una vez creado el dataset principal, le realizaremos consultas para obtener informacion procesada. Para estas consultas debemos importar las funcionalidades que nos lo permitiran :"
   ]
  },
  {
   "cell_type": "code",
   "execution_count": null,
   "id": "9d494296",
   "metadata": {},
   "outputs": [],
   "source": [
    "from funcionalidad import top_5_aglomerados_universitarios, porcentaje_aglomerados_propietarios, viviendas_esp, imprimir_region_inquilinos, algomerado_material_precario, jubilados_habitabilidad_insuficiente, cantidad_universitarios_en_vivienda_insuficiente_en_anio\n",
    "from constantes import PROCESSED_DATA_INDIVIDUAL, PROCESSED_DATA_HOGAR"
   ]
  },
  {
   "cell_type": "markdown",
   "id": "4b937178",
   "metadata": {},
   "source": [
    "<u> Inciso 4: </u>\n",
    "\n",
    "Top 5 aglomerados con mayor porcentaje de hogares con +2 ocupantes con estudios universitarios o superiores finalizados. Información obtenida a partir del par de archivos más recientes."
   ]
  },
  {
   "cell_type": "code",
   "execution_count": null,
   "id": "1fde7db7",
   "metadata": {},
   "outputs": [],
   "source": [
    "top_5_aglomerados_universitarios(PROCESSED_DATA_HOGAR, PROCESSED_DATA_INDIVIDUAL)"
   ]
  },
  {
   "cell_type": "markdown",
   "id": "6349aec9",
   "metadata": {},
   "source": [
    "<u> Inciso 5: </u>\n",
    "\n",
    "Informar para cada aglomerado el porcentaje de viviendas ocupadas por sus propietarios."
   ]
  },
  {
   "cell_type": "code",
   "execution_count": null,
   "id": "98543dd8",
   "metadata": {},
   "outputs": [],
   "source": [
    "porcentaje_aglomerados_propietarios(PROCESSED_DATA_HOGAR)"
   ]
  },
  {
   "cell_type": "markdown",
   "id": "6ddfbb84",
   "metadata": {},
   "source": [
    "<u> Inciso 6: </u>\n",
    "\n",
    "Informar el aglomerado con mayor cantidad de viviendas  con más de dos ocupantes \n",
    "y sin baño. Informar también la cantidad de ellas. "
   ]
  },
  {
   "cell_type": "code",
   "execution_count": null,
   "id": "0a0d5f9c",
   "metadata": {},
   "outputs": [],
   "source": [
    "viviendas_esp(PROCESSED_DATA_HOGAR)"
   ]
  },
  {
   "cell_type": "markdown",
   "id": "38e65432",
   "metadata": {},
   "source": [
    "<u> Inciso 8: </u>\n",
    "\n",
    "Ordenar las regiones de forma descendente según el porcentaje de inquilinos de cada una."
   ]
  },
  {
   "cell_type": "code",
   "execution_count": null,
   "id": "bdcaa321",
   "metadata": {},
   "outputs": [],
   "source": [
    "imprimir_region_inquilinos(PROCESSED_DATA_HOGAR)"
   ]
  },
  {
   "cell_type": "markdown",
   "id": "b88a4fd0",
   "metadata": {},
   "source": [
    "<u> Inciso 11: </u>\n",
    "\n",
    "Dado un año ingresado por el usuario busca en el último trimestre almacenado \n",
    "el aglomerado con mayor porcentaje de viviendas de “Material precario” y el menor."
   ]
  },
  {
   "cell_type": "code",
   "execution_count": null,
   "id": "0f17cf21",
   "metadata": {},
   "outputs": [],
   "source": [
    "algomerado_material_precario(PROCESSED_DATA_HOGAR)"
   ]
  },
  {
   "cell_type": "markdown",
   "id": "7e5c6c4f",
   "metadata": {},
   "source": [
    "<u> Inciso 12: </u>\n",
    "\n",
    "A partir de la información del último trimestre almacenado en el sistema se debe \n",
    "retornar para cada aglomerado el porcentaje de jubilados que vivan en una vivienda \n",
    "con CONDICION_DE_HABITABILIDAD insuficiente."
   ]
  },
  {
   "cell_type": "code",
   "execution_count": null,
   "id": "5ddd6558",
   "metadata": {},
   "outputs": [],
   "source": [
    "jubilados_habitabilidad_insuficiente(PROCESSED_DATA_HOGAR,PROCESSED_DATA_INDIVIDUAL)"
   ]
  },
  {
   "cell_type": "markdown",
   "id": "d1a70b7e",
   "metadata": {},
   "source": [
    "<u> Inciso 13: </u>\n",
    "\n",
    "Pedir al usuario que ingrese un año y a partir de la información del ultimo trimestre de dicho año, informar la cantidad de personas que hayan cursado nivel universitario o superior y que vivan en una vivienda insuficiente.\n"
   ]
  },
  {
   "cell_type": "code",
   "execution_count": null,
   "id": "65b22452",
   "metadata": {},
   "outputs": [],
   "source": [
    "cantidad_universitarios_en_vivienda_insuficiente_en_anio(PROCESSED_DATA_INDIVIDUAL,PROCESSED_DATA_HOGAR)"
   ]
  }
 ],
 "metadata": {
  "kernelspec": {
   "display_name": "Python 3",
   "language": "python",
   "name": "python3"
  },
  "language_info": {
   "codemirror_mode": {
    "name": "ipython",
    "version": 3
   },
   "file_extension": ".py",
   "mimetype": "text/x-python",
   "name": "python",
   "nbconvert_exporter": "python",
   "pygments_lexer": "ipython3",
   "version": "3.12.9"
  }
 },
 "nbformat": 4,
 "nbformat_minor": 5
}
