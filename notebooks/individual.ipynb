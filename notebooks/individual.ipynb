{
 "cells": [
  {
   "cell_type": "markdown",
   "id": "fa00035a",
   "metadata": {},
   "source": [
    "En este notebook, como su nombre indica, se realiza el procesamiento de los datasets que contemplan personas."
   ]
  },
  {
   "cell_type": "markdown",
   "id": "fce4a2ba",
   "metadata": {},
   "source": [
    "<center><mark>  <div style = 'background-color:LightGreen'> <center> Seccion A </div> <mark></center>"
   ]
  },
  {
   "cell_type": "markdown",
   "id": "8e4eabd0",
   "metadata": {},
   "source": [
    "Ejecutando los siguientes recuadros con codigo se estará generando la base de informacion para utilizarla luego en la interfaz Streamlit. Previo a cada ejecucion de codigo se detallará su funcionalidad."
   ]
  },
  {
   "cell_type": "markdown",
   "id": "70f9f00f",
   "metadata": {},
   "source": [
    "Se importa la clase Path para trabajar sobre la ruta del sistema, permite que sea multiplataforma este metodo, y luego se obtiene la ruta del directorio actual, y apartir de ahi se posiciona en el contenido de la carpeta src."
   ]
  },
  {
   "cell_type": "code",
   "execution_count": null,
   "id": "cc3a4dcb",
   "metadata": {},
   "outputs": [],
   "source": [
    "from pathlib import Path\n",
    "import sys\n",
    "\n",
    "current_dir = Path().resolve()\n",
    "src_dir = current_dir.parent / \"src\"\n",
    "\n",
    "# Agrega src al sys.path (como string)\n",
    "if str(src_dir) not in sys.path:\n",
    "    sys.path.append(str(src_dir))"
   ]
  },
  {
   "cell_type": "markdown",
   "id": "ab6ea192",
   "metadata": {},
   "source": [
    "Con el posicionamiento en src nos permite traer (importando) codigo de los diferentes archivos .py"
   ]
  },
  {
   "cell_type": "code",
   "execution_count": null,
   "id": "24969bdc",
   "metadata": {},
   "outputs": [],
   "source": [
    "from funcionalidad import creacion_datasets\n",
    "from procesamiento import procesar_data"
   ]
  },
  {
   "cell_type": "markdown",
   "id": "f0a1af62",
   "metadata": {},
   "source": [
    "Ejecutando estas funciones vamos a crear: <br> <br>\n",
    "Primero un dataset a partir de varios archivos individual.txt sobre los trimestres almacenados en la carpeta files."
   ]
  },
  {
   "cell_type": "code",
   "execution_count": null,
   "id": "608a2524",
   "metadata": {},
   "outputs": [],
   "source": [
    "creacion_datasets(\"I\")"
   ]
  },
  {
   "cell_type": "markdown",
   "id": "a3231dd3",
   "metadata": {},
   "source": [
    "Luego, con este archivo sobre hogares de tipo .csv se crea uno con nuevas columnas solicitadas en la seccion A."
   ]
  },
  {
   "cell_type": "code",
   "execution_count": null,
   "id": "b4897672",
   "metadata": {},
   "outputs": [],
   "source": [
    "procesar_data(\"I\")"
   ]
  },
  {
   "cell_type": "markdown",
   "id": "dfb0dbe0",
   "metadata": {},
   "source": [
    "<center><mark>  <div style = 'background-color:LightGreen'> <center> Seccion B </div> <mark></center>"
   ]
  },
  {
   "cell_type": "markdown",
   "id": "488880f7",
   "metadata": {},
   "source": [
    "Una vez creado el dataset principal, le realizaremos consultas para obtener informacion procesada. Para estas consultas debemos importar las funcionalidades que nos lo permitiran :"
   ]
  },
  {
   "cell_type": "code",
   "execution_count": null,
   "id": "b21ea238",
   "metadata": {},
   "outputs": [],
   "source": [
    "from funcionalidad import porcentaje_alfabetizacion, porcentaje_inmigrantes_academicos, menor_desocupacion_anio_trim, top_5_aglomerados_universitarios,porc_aglo_estudios, imprimir_formacion_por_aglomerado, comparacion_dos_aglomerados, jubilados_habitabilidad_insuficiente, cantidad_universitarios_en_vivienda_insuficiente_en_anio\n",
    "from constantes import PROCESSED_DATA_INDIVIDUAL, PROCESSED_DATA_HOGAR"
   ]
  },
  {
   "cell_type": "markdown",
   "id": "c2a11147",
   "metadata": {},
   "source": [
    "<u> Inciso 1: </u>\n",
    "\n",
    "Informa, año tras año, el porcentaje de personas alfabetas y analfabetas mayores de 6 años tomando la informacion de el ultimo trimestre (4) de cada año."
   ]
  },
  {
   "cell_type": "code",
   "execution_count": null,
   "id": "c3d75084",
   "metadata": {},
   "outputs": [],
   "source": [
    "porcentaje_alfabetizacion(PROCESSED_DATA_INDIVIDUAL)"
   ]
  },
  {
   "cell_type": "markdown",
   "id": "b04df895",
   "metadata": {},
   "source": [
    "<u> Inciso 2: </u>\n",
    "\n",
    "A partir de un año y trimestre elegido por el usuario informar el porcentaje de personas no nacidas en Argentina que hayan cursado un nivel universitario o superior. "
   ]
  },
  {
   "cell_type": "code",
   "execution_count": null,
   "id": "79b3200f",
   "metadata": {},
   "outputs": [],
   "source": [
    "porcentaje_inmigrantes_academicos(PROCESSED_DATA_INDIVIDUAL)"
   ]
  },
  {
   "cell_type": "markdown",
   "id": "6cef06cc",
   "metadata": {},
   "source": [
    "<u> Inciso 3: </u>\n",
    "\n",
    "A partir de la información contenida en el dataset informar el año y trimestre donde \n",
    "hubo menor desocupación. "
   ]
  },
  {
   "cell_type": "code",
   "execution_count": null,
   "id": "48310143",
   "metadata": {},
   "outputs": [],
   "source": [
    "menor_desocupacion_anio_trim(PROCESSED_DATA_INDIVIDUAL)"
   ]
  },
  {
   "cell_type": "markdown",
   "id": "ad14641e",
   "metadata": {},
   "source": [
    "<u> Inciso 4: </u>\n",
    "\n",
    "Top 5 aglomerados con mayor porcentaje de hogares con +2 ocupantes con estudios universitarios o superiores finalizados. Información obtenida a partir del par de archivos más recientes."
   ]
  },
  {
   "cell_type": "code",
   "execution_count": null,
   "id": "f72ab35d",
   "metadata": {},
   "outputs": [],
   "source": [
    "top_5_aglomerados_universitarios(PROCESSED_DATA_HOGAR, PROCESSED_DATA_INDIVIDUAL)"
   ]
  },
  {
   "cell_type": "markdown",
   "id": "5ba670b9",
   "metadata": {},
   "source": [
    "<u> Inciso 7: </u>\n",
    "\n",
    "Informar para cada aglomerado el porcentaje de personas que hayan cursado al menos en nivel universitario o superior. "
   ]
  },
  {
   "cell_type": "code",
   "execution_count": null,
   "id": "0cdf5195",
   "metadata": {},
   "outputs": [],
   "source": [
    "porc_aglo_estudios(PROCESSED_DATA_INDIVIDUAL)"
   ]
  },
  {
   "cell_type": "markdown",
   "id": "b9518535",
   "metadata": {},
   "source": [
    "<u> Inciso 9: </u>\n",
    "\n",
    "Pedir al usuario que seleccione un aglomerado y a partir de la información contenida retornar una tabla que contenga la cantidad de personas mayores de edad según su nivel de estudios alcanzados.  "
   ]
  },
  {
   "cell_type": "code",
   "execution_count": null,
   "id": "90658302",
   "metadata": {},
   "outputs": [],
   "source": [
    "imprimir_formacion_por_aglomerado(PROCESSED_DATA_INDIVIDUAL)"
   ]
  },
  {
   "cell_type": "markdown",
   "id": "e9e311f4",
   "metadata": {},
   "source": [
    "<u> Inciso 10: </u>\n",
    "\n",
    "Pedir al usuario que seleccione dos aglomerados y a partir de la información contenida retornar una tabla que contenga el porcentaje de personas mayores de edad con secundario incompleto."
   ]
  },
  {
   "cell_type": "code",
   "execution_count": null,
   "id": "5fdadf09",
   "metadata": {},
   "outputs": [],
   "source": [
    "comparacion_dos_aglomerados(PROCESSED_DATA_INDIVIDUAL)"
   ]
  },
  {
   "cell_type": "markdown",
   "id": "fc15806b",
   "metadata": {},
   "source": [
    "<u> Inciso 12: </u>\n",
    "\n",
    "A partir de la información del último trimestre almacenado en el sistema se debe \n",
    "retornar para cada aglomerado el porcentaje de jubilados que vivan en una vivienda \n",
    "con CONDICION_DE_HABITABILIDAD insuficiente."
   ]
  },
  {
   "cell_type": "code",
   "execution_count": null,
   "id": "45c413c0",
   "metadata": {},
   "outputs": [],
   "source": [
    "jubilados_habitabilidad_insuficiente(PROCESSED_DATA_HOGAR,PROCESSED_DATA_INDIVIDUAL)"
   ]
  },
  {
   "cell_type": "markdown",
   "id": "31187f3e",
   "metadata": {},
   "source": [
    "<u> Inciso 13: </u>\n",
    "\n",
    "Pedir al usuario que ingrese un año y a partir de la información del ultimo trimestre de dicho año, informar la cantidad de personas que hayan cursado nivel universitario o superior y que vivan en una vivienda insuficiente.\n"
   ]
  },
  {
   "cell_type": "code",
   "execution_count": null,
   "id": "a8d7fe37",
   "metadata": {},
   "outputs": [],
   "source": [
    "cantidad_universitarios_en_vivienda_insuficiente_en_anio(PROCESSED_DATA_INDIVIDUAL,PROCESSED_DATA_HOGAR)"
   ]
  }
 ],
 "metadata": {
  "kernelspec": {
   "display_name": "Python 3",
   "language": "python",
   "name": "python3"
  },
  "language_info": {
   "codemirror_mode": {
    "name": "ipython",
    "version": 3
   },
   "file_extension": ".py",
   "mimetype": "text/x-python",
   "name": "python",
   "nbconvert_exporter": "python",
   "pygments_lexer": "ipython3",
   "version": "3.12.9"
  }
 },
 "nbformat": 4,
 "nbformat_minor": 5
}
